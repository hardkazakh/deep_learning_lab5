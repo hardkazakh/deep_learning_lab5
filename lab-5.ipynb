{
 "cells": [
  {
   "cell_type": "markdown",
   "id": "2c662225",
   "metadata": {
    "papermill": {
     "duration": 0.010795,
     "end_time": "2023-03-25T06:20:16.938676",
     "exception": false,
     "start_time": "2023-03-25T06:20:16.927881",
     "status": "completed"
    },
    "tags": []
   },
   "source": [
    "**1. Load your dataset from the “CO2 Emissions.csv” csv file**"
   ]
  },
  {
   "cell_type": "code",
   "execution_count": 1,
   "id": "9a66926d",
   "metadata": {
    "execution": {
     "iopub.execute_input": "2023-03-25T06:20:16.960762Z",
     "iopub.status.busy": "2023-03-25T06:20:16.959801Z",
     "iopub.status.idle": "2023-03-25T06:20:17.038931Z",
     "shell.execute_reply": "2023-03-25T06:20:17.037524Z"
    },
    "papermill": {
     "duration": 0.093212,
     "end_time": "2023-03-25T06:20:17.041577",
     "exception": false,
     "start_time": "2023-03-25T06:20:16.948365",
     "status": "completed"
    },
    "tags": []
   },
   "outputs": [
    {
     "data": {
      "text/html": [
       "<div>\n",
       "<style scoped>\n",
       "    .dataframe tbody tr th:only-of-type {\n",
       "        vertical-align: middle;\n",
       "    }\n",
       "\n",
       "    .dataframe tbody tr th {\n",
       "        vertical-align: top;\n",
       "    }\n",
       "\n",
       "    .dataframe thead th {\n",
       "        text-align: right;\n",
       "    }\n",
       "</style>\n",
       "<table border=\"1\" class=\"dataframe\">\n",
       "  <thead>\n",
       "    <tr style=\"text-align: right;\">\n",
       "      <th></th>\n",
       "      <th>Make</th>\n",
       "      <th>Model</th>\n",
       "      <th>Vehicle Class</th>\n",
       "      <th>Engine Size(L)</th>\n",
       "      <th>Cylinders</th>\n",
       "      <th>Transmission</th>\n",
       "      <th>Fuel Type</th>\n",
       "      <th>Fuel Consumption City (L/100 km)</th>\n",
       "      <th>Fuel Consumption Hwy (L/100 km)</th>\n",
       "      <th>Fuel Consumption Comb (L/100 km)</th>\n",
       "      <th>Fuel Consumption Comb (mpg)</th>\n",
       "      <th>CO2 Emissions(g/km)</th>\n",
       "    </tr>\n",
       "  </thead>\n",
       "  <tbody>\n",
       "    <tr>\n",
       "      <th>0</th>\n",
       "      <td>ACURA</td>\n",
       "      <td>ILX</td>\n",
       "      <td>COMPACT</td>\n",
       "      <td>2.0</td>\n",
       "      <td>4</td>\n",
       "      <td>AS5</td>\n",
       "      <td>Z</td>\n",
       "      <td>9.9</td>\n",
       "      <td>6.7</td>\n",
       "      <td>8.5</td>\n",
       "      <td>33</td>\n",
       "      <td>196</td>\n",
       "    </tr>\n",
       "    <tr>\n",
       "      <th>1</th>\n",
       "      <td>ACURA</td>\n",
       "      <td>ILX</td>\n",
       "      <td>COMPACT</td>\n",
       "      <td>2.4</td>\n",
       "      <td>4</td>\n",
       "      <td>M6</td>\n",
       "      <td>Z</td>\n",
       "      <td>11.2</td>\n",
       "      <td>7.7</td>\n",
       "      <td>9.6</td>\n",
       "      <td>29</td>\n",
       "      <td>221</td>\n",
       "    </tr>\n",
       "    <tr>\n",
       "      <th>2</th>\n",
       "      <td>ACURA</td>\n",
       "      <td>ILX HYBRID</td>\n",
       "      <td>COMPACT</td>\n",
       "      <td>1.5</td>\n",
       "      <td>4</td>\n",
       "      <td>AV7</td>\n",
       "      <td>Z</td>\n",
       "      <td>6.0</td>\n",
       "      <td>5.8</td>\n",
       "      <td>5.9</td>\n",
       "      <td>48</td>\n",
       "      <td>136</td>\n",
       "    </tr>\n",
       "    <tr>\n",
       "      <th>3</th>\n",
       "      <td>ACURA</td>\n",
       "      <td>MDX 4WD</td>\n",
       "      <td>SUV - SMALL</td>\n",
       "      <td>3.5</td>\n",
       "      <td>6</td>\n",
       "      <td>AS6</td>\n",
       "      <td>Z</td>\n",
       "      <td>12.7</td>\n",
       "      <td>9.1</td>\n",
       "      <td>11.1</td>\n",
       "      <td>25</td>\n",
       "      <td>255</td>\n",
       "    </tr>\n",
       "    <tr>\n",
       "      <th>4</th>\n",
       "      <td>ACURA</td>\n",
       "      <td>RDX AWD</td>\n",
       "      <td>SUV - SMALL</td>\n",
       "      <td>3.5</td>\n",
       "      <td>6</td>\n",
       "      <td>AS6</td>\n",
       "      <td>Z</td>\n",
       "      <td>12.1</td>\n",
       "      <td>8.7</td>\n",
       "      <td>10.6</td>\n",
       "      <td>27</td>\n",
       "      <td>244</td>\n",
       "    </tr>\n",
       "  </tbody>\n",
       "</table>\n",
       "</div>"
      ],
      "text/plain": [
       "    Make       Model Vehicle Class  Engine Size(L)  Cylinders Transmission  \\\n",
       "0  ACURA         ILX       COMPACT             2.0          4          AS5   \n",
       "1  ACURA         ILX       COMPACT             2.4          4           M6   \n",
       "2  ACURA  ILX HYBRID       COMPACT             1.5          4          AV7   \n",
       "3  ACURA     MDX 4WD   SUV - SMALL             3.5          6          AS6   \n",
       "4  ACURA     RDX AWD   SUV - SMALL             3.5          6          AS6   \n",
       "\n",
       "  Fuel Type  Fuel Consumption City (L/100 km)  \\\n",
       "0         Z                               9.9   \n",
       "1         Z                              11.2   \n",
       "2         Z                               6.0   \n",
       "3         Z                              12.7   \n",
       "4         Z                              12.1   \n",
       "\n",
       "   Fuel Consumption Hwy (L/100 km)  Fuel Consumption Comb (L/100 km)  \\\n",
       "0                              6.7                               8.5   \n",
       "1                              7.7                               9.6   \n",
       "2                              5.8                               5.9   \n",
       "3                              9.1                              11.1   \n",
       "4                              8.7                              10.6   \n",
       "\n",
       "   Fuel Consumption Comb (mpg)  CO2 Emissions(g/km)  \n",
       "0                           33                  196  \n",
       "1                           29                  221  \n",
       "2                           48                  136  \n",
       "3                           25                  255  \n",
       "4                           27                  244  "
      ]
     },
     "execution_count": 1,
     "metadata": {},
     "output_type": "execute_result"
    }
   ],
   "source": [
    "import pandas as pd\n",
    "import warnings as w\n",
    "w.filterwarnings('ignore')\n",
    "\n",
    "df_1 = pd.read_csv(\"/kaggle/input/co2-emissions/CO2 Emissions.csv\")\n",
    "df_1.head()"
   ]
  },
  {
   "cell_type": "markdown",
   "id": "c82a9012",
   "metadata": {
    "papermill": {
     "duration": 0.010097,
     "end_time": "2023-03-25T06:20:17.061539",
     "exception": false,
     "start_time": "2023-03-25T06:20:17.051442",
     "status": "completed"
    },
    "tags": []
   },
   "source": [
    "**2. Explore your dataset and list the name of the text columns.**"
   ]
  },
  {
   "cell_type": "code",
   "execution_count": 2,
   "id": "e5789ac2",
   "metadata": {
    "execution": {
     "iopub.execute_input": "2023-03-25T06:20:17.084312Z",
     "iopub.status.busy": "2023-03-25T06:20:17.083937Z",
     "iopub.status.idle": "2023-03-25T06:20:17.091085Z",
     "shell.execute_reply": "2023-03-25T06:20:17.089910Z"
    },
    "papermill": {
     "duration": 0.0223,
     "end_time": "2023-03-25T06:20:17.093703",
     "exception": false,
     "start_time": "2023-03-25T06:20:17.071403",
     "status": "completed"
    },
    "tags": []
   },
   "outputs": [
    {
     "data": {
      "text/plain": [
       "(7385, 12)"
      ]
     },
     "execution_count": 2,
     "metadata": {},
     "output_type": "execute_result"
    }
   ],
   "source": [
    "df_1.shape"
   ]
  },
  {
   "cell_type": "code",
   "execution_count": 3,
   "id": "5fd7e55c",
   "metadata": {
    "execution": {
     "iopub.execute_input": "2023-03-25T06:20:17.116107Z",
     "iopub.status.busy": "2023-03-25T06:20:17.115698Z",
     "iopub.status.idle": "2023-03-25T06:20:17.144640Z",
     "shell.execute_reply": "2023-03-25T06:20:17.143373Z"
    },
    "papermill": {
     "duration": 0.044237,
     "end_time": "2023-03-25T06:20:17.148059",
     "exception": false,
     "start_time": "2023-03-25T06:20:17.103822",
     "status": "completed"
    },
    "tags": []
   },
   "outputs": [
    {
     "name": "stdout",
     "output_type": "stream",
     "text": [
      "<class 'pandas.core.frame.DataFrame'>\n",
      "RangeIndex: 7385 entries, 0 to 7384\n",
      "Data columns (total 12 columns):\n",
      " #   Column                            Non-Null Count  Dtype  \n",
      "---  ------                            --------------  -----  \n",
      " 0   Make                              7385 non-null   object \n",
      " 1   Model                             7385 non-null   object \n",
      " 2   Vehicle Class                     7385 non-null   object \n",
      " 3   Engine Size(L)                    7385 non-null   float64\n",
      " 4   Cylinders                         7385 non-null   int64  \n",
      " 5   Transmission                      7385 non-null   object \n",
      " 6   Fuel Type                         7385 non-null   object \n",
      " 7   Fuel Consumption City (L/100 km)  7385 non-null   float64\n",
      " 8   Fuel Consumption Hwy (L/100 km)   7385 non-null   float64\n",
      " 9   Fuel Consumption Comb (L/100 km)  7385 non-null   float64\n",
      " 10  Fuel Consumption Comb (mpg)       7385 non-null   int64  \n",
      " 11  CO2 Emissions(g/km)               7385 non-null   int64  \n",
      "dtypes: float64(4), int64(3), object(5)\n",
      "memory usage: 692.5+ KB\n"
     ]
    }
   ],
   "source": [
    "df_1.info()"
   ]
  },
  {
   "cell_type": "code",
   "execution_count": 4,
   "id": "3ef4639b",
   "metadata": {
    "execution": {
     "iopub.execute_input": "2023-03-25T06:20:17.170490Z",
     "iopub.status.busy": "2023-03-25T06:20:17.170101Z",
     "iopub.status.idle": "2023-03-25T06:20:17.208546Z",
     "shell.execute_reply": "2023-03-25T06:20:17.207284Z"
    },
    "papermill": {
     "duration": 0.052771,
     "end_time": "2023-03-25T06:20:17.211433",
     "exception": false,
     "start_time": "2023-03-25T06:20:17.158662",
     "status": "completed"
    },
    "tags": []
   },
   "outputs": [
    {
     "data": {
      "text/html": [
       "<div>\n",
       "<style scoped>\n",
       "    .dataframe tbody tr th:only-of-type {\n",
       "        vertical-align: middle;\n",
       "    }\n",
       "\n",
       "    .dataframe tbody tr th {\n",
       "        vertical-align: top;\n",
       "    }\n",
       "\n",
       "    .dataframe thead th {\n",
       "        text-align: right;\n",
       "    }\n",
       "</style>\n",
       "<table border=\"1\" class=\"dataframe\">\n",
       "  <thead>\n",
       "    <tr style=\"text-align: right;\">\n",
       "      <th></th>\n",
       "      <th>Engine Size(L)</th>\n",
       "      <th>Cylinders</th>\n",
       "      <th>Fuel Consumption City (L/100 km)</th>\n",
       "      <th>Fuel Consumption Hwy (L/100 km)</th>\n",
       "      <th>Fuel Consumption Comb (L/100 km)</th>\n",
       "      <th>Fuel Consumption Comb (mpg)</th>\n",
       "      <th>CO2 Emissions(g/km)</th>\n",
       "    </tr>\n",
       "  </thead>\n",
       "  <tbody>\n",
       "    <tr>\n",
       "      <th>count</th>\n",
       "      <td>7385.000000</td>\n",
       "      <td>7385.000000</td>\n",
       "      <td>7385.000000</td>\n",
       "      <td>7385.000000</td>\n",
       "      <td>7385.000000</td>\n",
       "      <td>7385.000000</td>\n",
       "      <td>7385.000000</td>\n",
       "    </tr>\n",
       "    <tr>\n",
       "      <th>mean</th>\n",
       "      <td>3.160068</td>\n",
       "      <td>5.615030</td>\n",
       "      <td>12.556534</td>\n",
       "      <td>9.041706</td>\n",
       "      <td>10.975071</td>\n",
       "      <td>27.481652</td>\n",
       "      <td>250.584699</td>\n",
       "    </tr>\n",
       "    <tr>\n",
       "      <th>std</th>\n",
       "      <td>1.354170</td>\n",
       "      <td>1.828307</td>\n",
       "      <td>3.500274</td>\n",
       "      <td>2.224456</td>\n",
       "      <td>2.892506</td>\n",
       "      <td>7.231879</td>\n",
       "      <td>58.512679</td>\n",
       "    </tr>\n",
       "    <tr>\n",
       "      <th>min</th>\n",
       "      <td>0.900000</td>\n",
       "      <td>3.000000</td>\n",
       "      <td>4.200000</td>\n",
       "      <td>4.000000</td>\n",
       "      <td>4.100000</td>\n",
       "      <td>11.000000</td>\n",
       "      <td>96.000000</td>\n",
       "    </tr>\n",
       "    <tr>\n",
       "      <th>25%</th>\n",
       "      <td>2.000000</td>\n",
       "      <td>4.000000</td>\n",
       "      <td>10.100000</td>\n",
       "      <td>7.500000</td>\n",
       "      <td>8.900000</td>\n",
       "      <td>22.000000</td>\n",
       "      <td>208.000000</td>\n",
       "    </tr>\n",
       "    <tr>\n",
       "      <th>50%</th>\n",
       "      <td>3.000000</td>\n",
       "      <td>6.000000</td>\n",
       "      <td>12.100000</td>\n",
       "      <td>8.700000</td>\n",
       "      <td>10.600000</td>\n",
       "      <td>27.000000</td>\n",
       "      <td>246.000000</td>\n",
       "    </tr>\n",
       "    <tr>\n",
       "      <th>75%</th>\n",
       "      <td>3.700000</td>\n",
       "      <td>6.000000</td>\n",
       "      <td>14.600000</td>\n",
       "      <td>10.200000</td>\n",
       "      <td>12.600000</td>\n",
       "      <td>32.000000</td>\n",
       "      <td>288.000000</td>\n",
       "    </tr>\n",
       "    <tr>\n",
       "      <th>max</th>\n",
       "      <td>8.400000</td>\n",
       "      <td>16.000000</td>\n",
       "      <td>30.600000</td>\n",
       "      <td>20.600000</td>\n",
       "      <td>26.100000</td>\n",
       "      <td>69.000000</td>\n",
       "      <td>522.000000</td>\n",
       "    </tr>\n",
       "  </tbody>\n",
       "</table>\n",
       "</div>"
      ],
      "text/plain": [
       "       Engine Size(L)    Cylinders  Fuel Consumption City (L/100 km)  \\\n",
       "count     7385.000000  7385.000000                       7385.000000   \n",
       "mean         3.160068     5.615030                         12.556534   \n",
       "std          1.354170     1.828307                          3.500274   \n",
       "min          0.900000     3.000000                          4.200000   \n",
       "25%          2.000000     4.000000                         10.100000   \n",
       "50%          3.000000     6.000000                         12.100000   \n",
       "75%          3.700000     6.000000                         14.600000   \n",
       "max          8.400000    16.000000                         30.600000   \n",
       "\n",
       "       Fuel Consumption Hwy (L/100 km)  Fuel Consumption Comb (L/100 km)  \\\n",
       "count                      7385.000000                       7385.000000   \n",
       "mean                          9.041706                         10.975071   \n",
       "std                           2.224456                          2.892506   \n",
       "min                           4.000000                          4.100000   \n",
       "25%                           7.500000                          8.900000   \n",
       "50%                           8.700000                         10.600000   \n",
       "75%                          10.200000                         12.600000   \n",
       "max                          20.600000                         26.100000   \n",
       "\n",
       "       Fuel Consumption Comb (mpg)  CO2 Emissions(g/km)  \n",
       "count                  7385.000000          7385.000000  \n",
       "mean                     27.481652           250.584699  \n",
       "std                       7.231879            58.512679  \n",
       "min                      11.000000            96.000000  \n",
       "25%                      22.000000           208.000000  \n",
       "50%                      27.000000           246.000000  \n",
       "75%                      32.000000           288.000000  \n",
       "max                      69.000000           522.000000  "
      ]
     },
     "execution_count": 4,
     "metadata": {},
     "output_type": "execute_result"
    }
   ],
   "source": [
    "df_1.describe()"
   ]
  },
  {
   "cell_type": "code",
   "execution_count": 5,
   "id": "57b2fccd",
   "metadata": {
    "execution": {
     "iopub.execute_input": "2023-03-25T06:20:17.234613Z",
     "iopub.status.busy": "2023-03-25T06:20:17.234220Z",
     "iopub.status.idle": "2023-03-25T06:20:17.242295Z",
     "shell.execute_reply": "2023-03-25T06:20:17.241064Z"
    },
    "papermill": {
     "duration": 0.022322,
     "end_time": "2023-03-25T06:20:17.244722",
     "exception": false,
     "start_time": "2023-03-25T06:20:17.222400",
     "status": "completed"
    },
    "tags": []
   },
   "outputs": [
    {
     "data": {
      "text/plain": [
       "Index(['Make', 'Model', 'Vehicle Class', 'Engine Size(L)', 'Cylinders',\n",
       "       'Transmission', 'Fuel Type', 'Fuel Consumption City (L/100 km)',\n",
       "       'Fuel Consumption Hwy (L/100 km)', 'Fuel Consumption Comb (L/100 km)',\n",
       "       'Fuel Consumption Comb (mpg)', 'CO2 Emissions(g/km)'],\n",
       "      dtype='object')"
      ]
     },
     "execution_count": 5,
     "metadata": {},
     "output_type": "execute_result"
    }
   ],
   "source": [
    "df_1.columns"
   ]
  },
  {
   "cell_type": "markdown",
   "id": "d63bc9ce",
   "metadata": {
    "papermill": {
     "duration": 0.00986,
     "end_time": "2023-03-25T06:20:17.264877",
     "exception": false,
     "start_time": "2023-03-25T06:20:17.255017",
     "status": "completed"
    },
    "tags": []
   },
   "source": [
    "**3. Explore your dataset and check if there is any column with missing values.**"
   ]
  },
  {
   "cell_type": "code",
   "execution_count": 6,
   "id": "a086b945",
   "metadata": {
    "execution": {
     "iopub.execute_input": "2023-03-25T06:20:17.287415Z",
     "iopub.status.busy": "2023-03-25T06:20:17.287001Z",
     "iopub.status.idle": "2023-03-25T06:20:17.299337Z",
     "shell.execute_reply": "2023-03-25T06:20:17.298084Z"
    },
    "papermill": {
     "duration": 0.026788,
     "end_time": "2023-03-25T06:20:17.301801",
     "exception": false,
     "start_time": "2023-03-25T06:20:17.275013",
     "status": "completed"
    },
    "tags": []
   },
   "outputs": [
    {
     "data": {
      "text/plain": [
       "Make                                0\n",
       "Model                               0\n",
       "Vehicle Class                       0\n",
       "Engine Size(L)                      0\n",
       "Cylinders                           0\n",
       "Transmission                        0\n",
       "Fuel Type                           0\n",
       "Fuel Consumption City (L/100 km)    0\n",
       "Fuel Consumption Hwy (L/100 km)     0\n",
       "Fuel Consumption Comb (L/100 km)    0\n",
       "Fuel Consumption Comb (mpg)         0\n",
       "CO2 Emissions(g/km)                 0\n",
       "dtype: int64"
      ]
     },
     "execution_count": 6,
     "metadata": {},
     "output_type": "execute_result"
    }
   ],
   "source": [
    "df_1.isnull().sum()"
   ]
  },
  {
   "cell_type": "markdown",
   "id": "dd0f78d9",
   "metadata": {
    "papermill": {
     "duration": 0.01002,
     "end_time": "2023-03-25T06:20:17.322207",
     "exception": false,
     "start_time": "2023-03-25T06:20:17.312187",
     "status": "completed"
    },
    "tags": []
   },
   "source": [
    "**4. Select your input variables (only select integer valued columns and columns without missing values) and ourput variable (hint: output colum is the one you want to predict).**"
   ]
  },
  {
   "cell_type": "code",
   "execution_count": 7,
   "id": "a0dc2fe1",
   "metadata": {
    "execution": {
     "iopub.execute_input": "2023-03-25T06:20:17.344692Z",
     "iopub.status.busy": "2023-03-25T06:20:17.344270Z",
     "iopub.status.idle": "2023-03-25T06:20:17.350532Z",
     "shell.execute_reply": "2023-03-25T06:20:17.349351Z"
    },
    "papermill": {
     "duration": 0.02072,
     "end_time": "2023-03-25T06:20:17.353214",
     "exception": false,
     "start_time": "2023-03-25T06:20:17.332494",
     "status": "completed"
    },
    "tags": []
   },
   "outputs": [],
   "source": [
    "X_1 = df_1[['Cylinders', 'Fuel Consumption Comb (mpg)']]\n",
    "y_1 = df_1['CO2 Emissions(g/km)']"
   ]
  },
  {
   "cell_type": "markdown",
   "id": "09809100",
   "metadata": {
    "papermill": {
     "duration": 0.010055,
     "end_time": "2023-03-25T06:20:17.373626",
     "exception": false,
     "start_time": "2023-03-25T06:20:17.363571",
     "status": "completed"
    },
    "tags": []
   },
   "source": [
    "**5. Split your dataset as %80 training and %20 testing**"
   ]
  },
  {
   "cell_type": "code",
   "execution_count": 8,
   "id": "8251332c",
   "metadata": {
    "execution": {
     "iopub.execute_input": "2023-03-25T06:20:17.396091Z",
     "iopub.status.busy": "2023-03-25T06:20:17.395435Z",
     "iopub.status.idle": "2023-03-25T06:20:18.604971Z",
     "shell.execute_reply": "2023-03-25T06:20:18.603536Z"
    },
    "papermill": {
     "duration": 1.224363,
     "end_time": "2023-03-25T06:20:18.608242",
     "exception": false,
     "start_time": "2023-03-25T06:20:17.383879",
     "status": "completed"
    },
    "tags": []
   },
   "outputs": [],
   "source": [
    "from sklearn.model_selection import train_test_split\n",
    "X_train_1, X_test_1, y_train_1, y_test_1 = train_test_split(X_1, y_1, test_size=0.2)"
   ]
  },
  {
   "cell_type": "markdown",
   "id": "8966e4d9",
   "metadata": {
    "papermill": {
     "duration": 0.010322,
     "end_time": "2023-03-25T06:20:18.629368",
     "exception": false,
     "start_time": "2023-03-25T06:20:18.619046",
     "status": "completed"
    },
    "tags": []
   },
   "source": [
    "**6. Scale your training data and testing data inputs**"
   ]
  },
  {
   "cell_type": "code",
   "execution_count": 9,
   "id": "bc3f073a",
   "metadata": {
    "execution": {
     "iopub.execute_input": "2023-03-25T06:20:18.652482Z",
     "iopub.status.busy": "2023-03-25T06:20:18.652010Z",
     "iopub.status.idle": "2023-03-25T06:20:18.664207Z",
     "shell.execute_reply": "2023-03-25T06:20:18.662939Z"
    },
    "papermill": {
     "duration": 0.026882,
     "end_time": "2023-03-25T06:20:18.666808",
     "exception": false,
     "start_time": "2023-03-25T06:20:18.639926",
     "status": "completed"
    },
    "tags": []
   },
   "outputs": [],
   "source": [
    "from sklearn.preprocessing import StandardScaler\n",
    "scaler = StandardScaler()\n",
    "X_train_scaled_1 = scaler.fit_transform(X_train_1)\n",
    "X_test_scaled_1 = scaler.transform(X_test_1)"
   ]
  },
  {
   "cell_type": "markdown",
   "id": "3ed9a1cf",
   "metadata": {
    "papermill": {
     "duration": 0.010349,
     "end_time": "2023-03-25T06:20:18.687947",
     "exception": false,
     "start_time": "2023-03-25T06:20:18.677598",
     "status": "completed"
    },
    "tags": []
   },
   "source": [
    "**7. Implement three different neural networks one with 1 layer, one with 2 layers and one with 3 layers using either the ski-learn or Keras python libraries and train them using the training dataset.**"
   ]
  },
  {
   "cell_type": "code",
   "execution_count": 10,
   "id": "84873e06",
   "metadata": {
    "execution": {
     "iopub.execute_input": "2023-03-25T06:20:18.711019Z",
     "iopub.status.busy": "2023-03-25T06:20:18.710577Z",
     "iopub.status.idle": "2023-03-25T06:20:57.757337Z",
     "shell.execute_reply": "2023-03-25T06:20:57.755541Z"
    },
    "papermill": {
     "duration": 39.090055,
     "end_time": "2023-03-25T06:20:57.788525",
     "exception": false,
     "start_time": "2023-03-25T06:20:18.698470",
     "status": "completed"
    },
    "tags": []
   },
   "outputs": [
    {
     "data": {
      "text/plain": [
       "MLPRegressor(hidden_layer_sizes=(100, 50, 25), random_state=42)"
      ]
     },
     "execution_count": 10,
     "metadata": {},
     "output_type": "execute_result"
    }
   ],
   "source": [
    "from sklearn.neural_network import MLPRegressor\n",
    "\n",
    "# 1-layer neural network\n",
    "nn1 = MLPRegressor(hidden_layer_sizes=(100,), activation='relu',\n",
    "                   solver='adam', random_state=42)\n",
    "nn1.fit(X_train_scaled_1, y_train_1)\n",
    "\n",
    "# 2-layer neural network\n",
    "nn2 = MLPRegressor(hidden_layer_sizes=(100, 50), activation='relu',\n",
    "                   solver='adam', random_state=42)\n",
    "nn2.fit(X_train_scaled_1, y_train_1)\n",
    "\n",
    "# 3-layer neural network\n",
    "nn3 = MLPRegressor(hidden_layer_sizes=(100, 50, 25), activation='relu',\n",
    "                   solver='adam', random_state=42)\n",
    "nn3.fit(X_train_scaled_1, y_train_1)"
   ]
  },
  {
   "cell_type": "markdown",
   "id": "f843370e",
   "metadata": {
    "papermill": {
     "duration": 0.0265,
     "end_time": "2023-03-25T06:20:57.841829",
     "exception": false,
     "start_time": "2023-03-25T06:20:57.815329",
     "status": "completed"
    },
    "tags": []
   },
   "source": [
    "**8. Compare their accuracies by means of the test data set using Mean Absolute Error, Mean Squared Error, R2 score and Root Mean Squared Error metrics. Which neural network is better than the others.**"
   ]
  },
  {
   "cell_type": "code",
   "execution_count": 11,
   "id": "52b1ce36",
   "metadata": {
    "execution": {
     "iopub.execute_input": "2023-03-25T06:20:57.876219Z",
     "iopub.status.busy": "2023-03-25T06:20:57.875827Z",
     "iopub.status.idle": "2023-03-25T06:20:57.908296Z",
     "shell.execute_reply": "2023-03-25T06:20:57.906524Z"
    },
    "papermill": {
     "duration": 0.05204,
     "end_time": "2023-03-25T06:20:57.915735",
     "exception": false,
     "start_time": "2023-03-25T06:20:57.863695",
     "status": "completed"
    },
    "tags": []
   },
   "outputs": [
    {
     "name": "stdout",
     "output_type": "stream",
     "text": [
      "1-layer NN evaluation: (547.8812832683398, 301818.544433483, 549.3801456491516, -85.6854681882671)\n",
      "2-layer NN evaluation: (57.57000531904236, 6017.030829391581, 77.56952255487707, -0.7281546948285613)\n",
      "3-layer NN evaluation: (243.9127861617505, 62558.39763091066, 250.11676799229326, -16.96743138471536)\n"
     ]
    }
   ],
   "source": [
    "from sklearn.metrics import mean_absolute_error, mean_squared_error, r2_score\n",
    "\n",
    "def evaluate(model):\n",
    "    y_pred_1 = model.predict(X_test_1)\n",
    "    mae = mean_absolute_error(y_test_1, y_pred_1)\n",
    "    mse = mean_squared_error(y_test_1, y_pred_1)\n",
    "    rmse = mean_squared_error(y_test_1, y_pred_1, squared=False)\n",
    "    r2 = r2_score(y_test_1, y_pred_1)\n",
    "    return (mae, mse, rmse, r2)\n",
    "\n",
    "print(\"1-layer NN evaluation:\", evaluate(nn1))\n",
    "print(\"2-layer NN evaluation:\", evaluate(nn2))\n",
    "print(\"3-layer NN evaluation:\", evaluate(nn3))"
   ]
  },
  {
   "cell_type": "markdown",
   "id": "9f8a038e",
   "metadata": {
    "papermill": {
     "duration": 0.027555,
     "end_time": "2023-03-25T06:20:57.971253",
     "exception": false,
     "start_time": "2023-03-25T06:20:57.943698",
     "status": "completed"
    },
    "tags": []
   },
   "source": [
    "**9. Plot the Actual vs Predicted graph of the best model.**"
   ]
  },
  {
   "cell_type": "code",
   "execution_count": 12,
   "id": "33fbda58",
   "metadata": {
    "execution": {
     "iopub.execute_input": "2023-03-25T06:20:58.027587Z",
     "iopub.status.busy": "2023-03-25T06:20:58.027183Z",
     "iopub.status.idle": "2023-03-25T06:20:58.041562Z",
     "shell.execute_reply": "2023-03-25T06:20:58.039776Z"
    },
    "papermill": {
     "duration": 0.047329,
     "end_time": "2023-03-25T06:20:58.046329",
     "exception": false,
     "start_time": "2023-03-25T06:20:57.999000",
     "status": "completed"
    },
    "tags": []
   },
   "outputs": [],
   "source": [
    "y_pred_1 = nn2.predict(X_test_scaled_1)"
   ]
  },
  {
   "cell_type": "code",
   "execution_count": 13,
   "id": "a314d0e1",
   "metadata": {
    "execution": {
     "iopub.execute_input": "2023-03-25T06:20:58.104057Z",
     "iopub.status.busy": "2023-03-25T06:20:58.103347Z",
     "iopub.status.idle": "2023-03-25T06:20:58.425640Z",
     "shell.execute_reply": "2023-03-25T06:20:58.424413Z"
    },
    "papermill": {
     "duration": 0.355557,
     "end_time": "2023-03-25T06:20:58.428990",
     "exception": false,
     "start_time": "2023-03-25T06:20:58.073433",
     "status": "completed"
    },
    "tags": []
   },
   "outputs": [
    {
     "data": {
      "image/png": "[encoded data removed]",
      "text/plain": [
       "<Figure size 640x480 with 1 Axes>"
      ]
     },
     "metadata": {},
     "output_type": "display_data"
    }
   ],
   "source": [
    "import matplotlib.pyplot as plt\n",
    "\n",
    "# Plot the actual vs predicted values\n",
    "plt.scatter(y_test_1, y_pred_1)\n",
    "plt.plot([y_test_1.min(), y_test_1.max()], [y_test_1.min(), y_test_1.max()], 'k--', lw=2)\n",
    "plt.xlabel('Actual CO2 Emissions')\n",
    "plt.ylabel('Predicted CO2 Emissions')\n",
    "plt.title('Actual vs Predicted CO2 Emissions')\n",
    "plt.show()"
   ]
  },
  {
   "cell_type": "markdown",
   "id": "cc421619",
   "metadata": {
    "papermill": {
     "duration": 0.011273,
     "end_time": "2023-03-25T06:20:58.451905",
     "exception": false,
     "start_time": "2023-03-25T06:20:58.440632",
     "status": "completed"
    },
    "tags": []
   },
   "source": [
    "**1. Load your dataset from the “internet_connection_data.csv” csv file.**"
   ]
  },
  {
   "cell_type": "code",
   "execution_count": 14,
   "id": "2cc63f56",
   "metadata": {
    "execution": {
     "iopub.execute_input": "2023-03-25T06:20:58.476610Z",
     "iopub.status.busy": "2023-03-25T06:20:58.476214Z",
     "iopub.status.idle": "2023-03-25T06:20:58.773229Z",
     "shell.execute_reply": "2023-03-25T06:20:58.772317Z"
    },
    "papermill": {
     "duration": 0.312642,
     "end_time": "2023-03-25T06:20:58.775960",
     "exception": false,
     "start_time": "2023-03-25T06:20:58.463318",
     "status": "completed"
    },
    "tags": []
   },
   "outputs": [
    {
     "data": {
      "text/html": [
       "<div>\n",
       "<style scoped>\n",
       "    .dataframe tbody tr th:only-of-type {\n",
       "        vertical-align: middle;\n",
       "    }\n",
       "\n",
       "    .dataframe tbody tr th {\n",
       "        vertical-align: top;\n",
       "    }\n",
       "\n",
       "    .dataframe thead th {\n",
       "        text-align: right;\n",
       "    }\n",
       "</style>\n",
       "<table border=\"1\" class=\"dataframe\">\n",
       "  <thead>\n",
       "    <tr style=\"text-align: right;\">\n",
       "      <th></th>\n",
       "      <th>Memory_PssTotal</th>\n",
       "      <th>Memory_PssClean</th>\n",
       "      <th>Memory_SharedDirty</th>\n",
       "      <th>Memory_PrivateDirty</th>\n",
       "      <th>Memory_SharedClean</th>\n",
       "      <th>Memory_PrivateClean</th>\n",
       "      <th>Memory_HeapSize</th>\n",
       "      <th>Memory_HeapAlloc</th>\n",
       "      <th>Memory_HeapFree</th>\n",
       "      <th>Memory_Views</th>\n",
       "      <th>...</th>\n",
       "      <th>API_Base64_android.util.Base64_decode</th>\n",
       "      <th>API_SystemManager_android.app.ApplicationPackageManager_setComponentEnabledSetting</th>\n",
       "      <th>API_SystemManager_android.content.BroadcastReceiver_abortBroadcast</th>\n",
       "      <th>API_SMS_android.telephony.SmsManager_sendTextMessage</th>\n",
       "      <th>API_DeviceData_android.content.ContentResolver_registerContentObserver</th>\n",
       "      <th>Network_TotalReceivedBytes</th>\n",
       "      <th>Network_TotalReceivedPackets</th>\n",
       "      <th>Network_TotalTransmittedBytes</th>\n",
       "      <th>Network_TotalTransmittedPackets</th>\n",
       "      <th>Category</th>\n",
       "    </tr>\n",
       "  </thead>\n",
       "  <tbody>\n",
       "    <tr>\n",
       "      <th>0</th>\n",
       "      <td>46430</td>\n",
       "      <td>5156</td>\n",
       "      <td>11304</td>\n",
       "      <td>34336</td>\n",
       "      <td>86444</td>\n",
       "      <td>5176</td>\n",
       "      <td>15429</td>\n",
       "      <td>11470</td>\n",
       "      <td>3958</td>\n",
       "      <td>61</td>\n",
       "      <td>...</td>\n",
       "      <td>0</td>\n",
       "      <td>0</td>\n",
       "      <td>0</td>\n",
       "      <td>0</td>\n",
       "      <td>0</td>\n",
       "      <td>12519646</td>\n",
       "      <td>9033</td>\n",
       "      <td>142613</td>\n",
       "      <td>3551</td>\n",
       "      <td>Adware</td>\n",
       "    </tr>\n",
       "    <tr>\n",
       "      <th>1</th>\n",
       "      <td>35437</td>\n",
       "      <td>3064</td>\n",
       "      <td>12396</td>\n",
       "      <td>25632</td>\n",
       "      <td>91220</td>\n",
       "      <td>3080</td>\n",
       "      <td>13074</td>\n",
       "      <td>10631</td>\n",
       "      <td>2442</td>\n",
       "      <td>7</td>\n",
       "      <td>...</td>\n",
       "      <td>36</td>\n",
       "      <td>0</td>\n",
       "      <td>0</td>\n",
       "      <td>0</td>\n",
       "      <td>0</td>\n",
       "      <td>0</td>\n",
       "      <td>0</td>\n",
       "      <td>0</td>\n",
       "      <td>0</td>\n",
       "      <td>Adware</td>\n",
       "    </tr>\n",
       "    <tr>\n",
       "      <th>2</th>\n",
       "      <td>56846</td>\n",
       "      <td>2340</td>\n",
       "      <td>10768</td>\n",
       "      <td>47296</td>\n",
       "      <td>95940</td>\n",
       "      <td>2592</td>\n",
       "      <td>16154</td>\n",
       "      <td>11361</td>\n",
       "      <td>4792</td>\n",
       "      <td>174</td>\n",
       "      <td>...</td>\n",
       "      <td>0</td>\n",
       "      <td>0</td>\n",
       "      <td>0</td>\n",
       "      <td>0</td>\n",
       "      <td>0</td>\n",
       "      <td>6601</td>\n",
       "      <td>59</td>\n",
       "      <td>9602</td>\n",
       "      <td>71</td>\n",
       "      <td>Adware</td>\n",
       "    </tr>\n",
       "    <tr>\n",
       "      <th>3</th>\n",
       "      <td>30576</td>\n",
       "      <td>1152</td>\n",
       "      <td>12664</td>\n",
       "      <td>24312</td>\n",
       "      <td>78192</td>\n",
       "      <td>1164</td>\n",
       "      <td>7913</td>\n",
       "      <td>4720</td>\n",
       "      <td>3192</td>\n",
       "      <td>0</td>\n",
       "      <td>...</td>\n",
       "      <td>0</td>\n",
       "      <td>0</td>\n",
       "      <td>0</td>\n",
       "      <td>0</td>\n",
       "      <td>0</td>\n",
       "      <td>0</td>\n",
       "      <td>0</td>\n",
       "      <td>0</td>\n",
       "      <td>0</td>\n",
       "      <td>Adware</td>\n",
       "    </tr>\n",
       "    <tr>\n",
       "      <th>4</th>\n",
       "      <td>148452</td>\n",
       "      <td>19332</td>\n",
       "      <td>10808</td>\n",
       "      <td>122364</td>\n",
       "      <td>87080</td>\n",
       "      <td>20104</td>\n",
       "      <td>44830</td>\n",
       "      <td>34063</td>\n",
       "      <td>10766</td>\n",
       "      <td>137</td>\n",
       "      <td>...</td>\n",
       "      <td>0</td>\n",
       "      <td>0</td>\n",
       "      <td>0</td>\n",
       "      <td>0</td>\n",
       "      <td>20</td>\n",
       "      <td>2132046</td>\n",
       "      <td>2364</td>\n",
       "      <td>220625</td>\n",
       "      <td>1938</td>\n",
       "      <td>Adware</td>\n",
       "    </tr>\n",
       "  </tbody>\n",
       "</table>\n",
       "<p>5 rows × 46 columns</p>\n",
       "</div>"
      ],
      "text/plain": [
       "   Memory_PssTotal  Memory_PssClean  Memory_SharedDirty  Memory_PrivateDirty  \\\n",
       "0            46430             5156               11304                34336   \n",
       "1            35437             3064               12396                25632   \n",
       "2            56846             2340               10768                47296   \n",
       "3            30576             1152               12664                24312   \n",
       "4           148452            19332               10808               122364   \n",
       "\n",
       "   Memory_SharedClean  Memory_PrivateClean  Memory_HeapSize  Memory_HeapAlloc  \\\n",
       "0               86444                 5176            15429             11470   \n",
       "1               91220                 3080            13074             10631   \n",
       "2               95940                 2592            16154             11361   \n",
       "3               78192                 1164             7913              4720   \n",
       "4               87080                20104            44830             34063   \n",
       "\n",
       "   Memory_HeapFree  Memory_Views  ...  API_Base64_android.util.Base64_decode  \\\n",
       "0             3958            61  ...                                      0   \n",
       "1             2442             7  ...                                     36   \n",
       "2             4792           174  ...                                      0   \n",
       "3             3192             0  ...                                      0   \n",
       "4            10766           137  ...                                      0   \n",
       "\n",
       "   API_SystemManager_android.app.ApplicationPackageManager_setComponentEnabledSetting  \\\n",
       "0                                                  0                                    \n",
       "1                                                  0                                    \n",
       "2                                                  0                                    \n",
       "3                                                  0                                    \n",
       "4                                                  0                                    \n",
       "\n",
       "   API_SystemManager_android.content.BroadcastReceiver_abortBroadcast  \\\n",
       "0                                                  0                    \n",
       "1                                                  0                    \n",
       "2                                                  0                    \n",
       "3                                                  0                    \n",
       "4                                                  0                    \n",
       "\n",
       "   API_SMS_android.telephony.SmsManager_sendTextMessage  \\\n",
       "0                                                  0      \n",
       "1                                                  0      \n",
       "2                                                  0      \n",
       "3                                                  0      \n",
       "4                                                  0      \n",
       "\n",
       "   API_DeviceData_android.content.ContentResolver_registerContentObserver  \\\n",
       "0                                                  0                        \n",
       "1                                                  0                        \n",
       "2                                                  0                        \n",
       "3                                                  0                        \n",
       "4                                                 20                        \n",
       "\n",
       "   Network_TotalReceivedBytes  Network_TotalReceivedPackets  \\\n",
       "0                    12519646                          9033   \n",
       "1                           0                             0   \n",
       "2                        6601                            59   \n",
       "3                           0                             0   \n",
       "4                     2132046                          2364   \n",
       "\n",
       "   Network_TotalTransmittedBytes  Network_TotalTransmittedPackets  Category  \n",
       "0                         142613                             3551    Adware  \n",
       "1                              0                                0    Adware  \n",
       "2                           9602                               71    Adware  \n",
       "3                              0                                0    Adware  \n",
       "4                         220625                             1938    Adware  \n",
       "\n",
       "[5 rows x 46 columns]"
      ]
     },
     "execution_count": 14,
     "metadata": {},
     "output_type": "execute_result"
    }
   ],
   "source": [
    "df_2 = pd.read_csv(\"/kaggle/input/internet-connection-data/internet_connection_data.csv\")\n",
    "df_2.head()"
   ]
  },
  {
   "cell_type": "markdown",
   "id": "954ccd7c",
   "metadata": {
    "papermill": {
     "duration": 0.01239,
     "end_time": "2023-03-25T06:20:58.800563",
     "exception": false,
     "start_time": "2023-03-25T06:20:58.788173",
     "status": "completed"
    },
    "tags": []
   },
   "source": [
    "**2. Explore your dataset and list the name of the columns**"
   ]
  },
  {
   "cell_type": "code",
   "execution_count": 15,
   "id": "b0a7048a",
   "metadata": {
    "execution": {
     "iopub.execute_input": "2023-03-25T06:20:58.828374Z",
     "iopub.status.busy": "2023-03-25T06:20:58.827529Z",
     "iopub.status.idle": "2023-03-25T06:20:58.834953Z",
     "shell.execute_reply": "2023-03-25T06:20:58.833736Z"
    },
    "papermill": {
     "duration": 0.024139,
     "end_time": "2023-03-25T06:20:58.837446",
     "exception": false,
     "start_time": "2023-03-25T06:20:58.813307",
     "status": "completed"
    },
    "tags": []
   },
   "outputs": [
    {
     "data": {
      "text/plain": [
       "(47032, 46)"
      ]
     },
     "execution_count": 15,
     "metadata": {},
     "output_type": "execute_result"
    }
   ],
   "source": [
    "df_2.shape"
   ]
  },
  {
   "cell_type": "code",
   "execution_count": 16,
   "id": "ed1b3523",
   "metadata": {
    "execution": {
     "iopub.execute_input": "2023-03-25T06:20:58.863148Z",
     "iopub.status.busy": "2023-03-25T06:20:58.862726Z",
     "iopub.status.idle": "2023-03-25T06:20:58.883504Z",
     "shell.execute_reply": "2023-03-25T06:20:58.882629Z"
    },
    "papermill": {
     "duration": 0.037924,
     "end_time": "2023-03-25T06:20:58.887328",
     "exception": false,
     "start_time": "2023-03-25T06:20:58.849404",
     "status": "completed"
    },
    "tags": []
   },
   "outputs": [
    {
     "name": "stdout",
     "output_type": "stream",
     "text": [
      "<class 'pandas.core.frame.DataFrame'>\n",
      "RangeIndex: 47032 entries, 0 to 47031\n",
      "Data columns (total 46 columns):\n",
      " #   Column                                                                              Non-Null Count  Dtype \n",
      "---  ------                                                                              --------------  ----- \n",
      " 0   Memory_PssTotal                                                                     47032 non-null  int64 \n",
      " 1   Memory_PssClean                                                                     47032 non-null  int64 \n",
      " 2   Memory_SharedDirty                                                                  47032 non-null  int64 \n",
      " 3   Memory_PrivateDirty                                                                 47032 non-null  int64 \n",
      " 4   Memory_SharedClean                                                                  47032 non-null  int64 \n",
      " 5   Memory_PrivateClean                                                                 47032 non-null  int64 \n",
      " 6   Memory_HeapSize                                                                     47032 non-null  int64 \n",
      " 7   Memory_HeapAlloc                                                                    47032 non-null  int64 \n",
      " 8   Memory_HeapFree                                                                     47032 non-null  int64 \n",
      " 9   Memory_Views                                                                        47032 non-null  int64 \n",
      " 10  Memory_ViewRootImpl                                                                 47032 non-null  int64 \n",
      " 11  Memory_AppContexts                                                                  47032 non-null  int64 \n",
      " 12  Memory_Activities                                                                   47032 non-null  int64 \n",
      " 13  Memory_Assets                                                                       47032 non-null  int64 \n",
      " 14  Memory_AssetManagers                                                                47032 non-null  int64 \n",
      " 15  Memory_LocalBinders                                                                 47032 non-null  int64 \n",
      " 16  Memory_ProxyBinders                                                                 47032 non-null  int64 \n",
      " 17  Memory_ParcelMemory                                                                 47032 non-null  int64 \n",
      " 18  Memory_ParcelCount                                                                  47032 non-null  int64 \n",
      " 19  API_Command_java.lang.Runtime_exec                                                  47032 non-null  int64 \n",
      " 20  API_Command_java.lang.ProcessBuilder_start                                          47032 non-null  int64 \n",
      " 21  API_WebView_android.webkit.WebView_loadUrl                                          47032 non-null  int64 \n",
      " 22  API_FileIO_android.content.ContextWrapper_deleteFile                                47032 non-null  int64 \n",
      " 23  API_Database_android.database.sqlite.SQLiteDatabase_update                          47032 non-null  int64 \n",
      " 24  API_IPC_android.content.ContextWrapper_stopService                                  47032 non-null  int64 \n",
      " 25  API_Binder_android.app.ContextImpl_registerReceiver                                 47032 non-null  int64 \n",
      " 26  API_Crypto_javax.crypto.spec.SecretKeySpec_$init                                    47032 non-null  int64 \n",
      " 27  API_Crypto-Hash_java.security.MessageDigest_digest                                  47032 non-null  int64 \n",
      " 28  API_Crypto-Hash_java.security.MessageDigest_update                                  47032 non-null  int64 \n",
      " 29  API_DeviceInfo_android.telephony.TelephonyManager_getDeviceId                       47032 non-null  int64 \n",
      " 30  API_DeviceInfo_android.telephony.TelephonyManager_getSubscriberId                   47032 non-null  int64 \n",
      " 31  API_DeviceInfo_android.telephony.TelephonyManager_getSimOperatorName                47032 non-null  int64 \n",
      " 32  API_Network_java.net.URL_openConnection                                             47032 non-null  int64 \n",
      " 33  API_Network_com.android.okhttp.internal.huc.HttpURLConnectionImpl_getInputStream    47032 non-null  int64 \n",
      " 34  API_DexClassLoader_dalvik.system.BaseDexClassLoader_findResource                    47032 non-null  int64 \n",
      " 35  API_DexClassLoader_dalvik.system.DexFile_loadDex                                    47032 non-null  int64 \n",
      " 36  API_Base64_android.util.Base64_decode                                               47032 non-null  int64 \n",
      " 37  API_SystemManager_android.app.ApplicationPackageManager_setComponentEnabledSetting  47032 non-null  int64 \n",
      " 38  API_SystemManager_android.content.BroadcastReceiver_abortBroadcast                  47032 non-null  int64 \n",
      " 39  API_SMS_android.telephony.SmsManager_sendTextMessage                                47032 non-null  int64 \n",
      " 40  API_DeviceData_android.content.ContentResolver_registerContentObserver              47032 non-null  int64 \n",
      " 41  Network_TotalReceivedBytes                                                          47032 non-null  int64 \n",
      " 42  Network_TotalReceivedPackets                                                        47032 non-null  int64 \n",
      " 43  Network_TotalTransmittedBytes                                                       47032 non-null  int64 \n",
      " 44  Network_TotalTransmittedPackets                                                     47032 non-null  int64 \n",
      " 45  Category                                                                            47032 non-null  object\n",
      "dtypes: int64(45), object(1)\n",
      "memory usage: 16.5+ MB\n"
     ]
    }
   ],
   "source": [
    "df_2.info()"
   ]
  },
  {
   "cell_type": "code",
   "execution_count": 17,
   "id": "64a02acc",
   "metadata": {
    "execution": {
     "iopub.execute_input": "2023-03-25T06:20:58.914986Z",
     "iopub.status.busy": "2023-03-25T06:20:58.913702Z",
     "iopub.status.idle": "2023-03-25T06:20:59.095410Z",
     "shell.execute_reply": "2023-03-25T06:20:59.093975Z"
    },
    "papermill": {
     "duration": 0.197784,
     "end_time": "2023-03-25T06:20:59.098043",
     "exception": false,
     "start_time": "2023-03-25T06:20:58.900259",
     "status": "completed"
    },
    "tags": []
   },
   "outputs": [
    {
     "data": {
      "text/html": [
       "<div>\n",
       "<style scoped>\n",
       "    .dataframe tbody tr th:only-of-type {\n",
       "        vertical-align: middle;\n",
       "    }\n",
       "\n",
       "    .dataframe tbody tr th {\n",
       "        vertical-align: top;\n",
       "    }\n",
       "\n",
       "    .dataframe thead th {\n",
       "        text-align: right;\n",
       "    }\n",
       "</style>\n",
       "<table border=\"1\" class=\"dataframe\">\n",
       "  <thead>\n",
       "    <tr style=\"text-align: right;\">\n",
       "      <th></th>\n",
       "      <th>Memory_PssTotal</th>\n",
       "      <th>Memory_PssClean</th>\n",
       "      <th>Memory_SharedDirty</th>\n",
       "      <th>Memory_PrivateDirty</th>\n",
       "      <th>Memory_SharedClean</th>\n",
       "      <th>Memory_PrivateClean</th>\n",
       "      <th>Memory_HeapSize</th>\n",
       "      <th>Memory_HeapAlloc</th>\n",
       "      <th>Memory_HeapFree</th>\n",
       "      <th>Memory_Views</th>\n",
       "      <th>...</th>\n",
       "      <th>API_DexClassLoader_dalvik.system.DexFile_loadDex</th>\n",
       "      <th>API_Base64_android.util.Base64_decode</th>\n",
       "      <th>API_SystemManager_android.app.ApplicationPackageManager_setComponentEnabledSetting</th>\n",
       "      <th>API_SystemManager_android.content.BroadcastReceiver_abortBroadcast</th>\n",
       "      <th>API_SMS_android.telephony.SmsManager_sendTextMessage</th>\n",
       "      <th>API_DeviceData_android.content.ContentResolver_registerContentObserver</th>\n",
       "      <th>Network_TotalReceivedBytes</th>\n",
       "      <th>Network_TotalReceivedPackets</th>\n",
       "      <th>Network_TotalTransmittedBytes</th>\n",
       "      <th>Network_TotalTransmittedPackets</th>\n",
       "    </tr>\n",
       "  </thead>\n",
       "  <tbody>\n",
       "    <tr>\n",
       "      <th>count</th>\n",
       "      <td>47032.000000</td>\n",
       "      <td>47032.000000</td>\n",
       "      <td>47032.000000</td>\n",
       "      <td>47032.000000</td>\n",
       "      <td>47032.000000</td>\n",
       "      <td>47032.000000</td>\n",
       "      <td>47032.000000</td>\n",
       "      <td>47032.000000</td>\n",
       "      <td>47032.000000</td>\n",
       "      <td>47032.000000</td>\n",
       "      <td>...</td>\n",
       "      <td>47032.000000</td>\n",
       "      <td>47032.000000</td>\n",
       "      <td>47032.000000</td>\n",
       "      <td>47032.000000</td>\n",
       "      <td>47032.000000</td>\n",
       "      <td>47032.000000</td>\n",
       "      <td>4.703200e+04</td>\n",
       "      <td>47032.00000</td>\n",
       "      <td>4.703200e+04</td>\n",
       "      <td>47032.000000</td>\n",
       "    </tr>\n",
       "    <tr>\n",
       "      <th>mean</th>\n",
       "      <td>70066.030277</td>\n",
       "      <td>12696.908573</td>\n",
       "      <td>10858.466661</td>\n",
       "      <td>46776.315275</td>\n",
       "      <td>87947.190764</td>\n",
       "      <td>14305.071015</td>\n",
       "      <td>21836.077458</td>\n",
       "      <td>17179.782935</td>\n",
       "      <td>4655.302220</td>\n",
       "      <td>83.215704</td>\n",
       "      <td>...</td>\n",
       "      <td>0.121407</td>\n",
       "      <td>226.005060</td>\n",
       "      <td>3.985818</td>\n",
       "      <td>0.028810</td>\n",
       "      <td>0.172670</td>\n",
       "      <td>27.414654</td>\n",
       "      <td>1.083389e+06</td>\n",
       "      <td>830.12921</td>\n",
       "      <td>3.160736e+04</td>\n",
       "      <td>478.422457</td>\n",
       "    </tr>\n",
       "    <tr>\n",
       "      <th>std</th>\n",
       "      <td>35067.733913</td>\n",
       "      <td>12923.587798</td>\n",
       "      <td>2244.178601</td>\n",
       "      <td>28335.704319</td>\n",
       "      <td>15994.720499</td>\n",
       "      <td>13488.810568</td>\n",
       "      <td>12251.405628</td>\n",
       "      <td>10234.316094</td>\n",
       "      <td>2878.223628</td>\n",
       "      <td>163.565694</td>\n",
       "      <td>...</td>\n",
       "      <td>1.781443</td>\n",
       "      <td>858.208668</td>\n",
       "      <td>91.191986</td>\n",
       "      <td>0.236024</td>\n",
       "      <td>2.806416</td>\n",
       "      <td>58.934643</td>\n",
       "      <td>1.114890e+07</td>\n",
       "      <td>7881.72742</td>\n",
       "      <td>1.686664e+05</td>\n",
       "      <td>3801.344833</td>\n",
       "    </tr>\n",
       "    <tr>\n",
       "      <th>min</th>\n",
       "      <td>4506.000000</td>\n",
       "      <td>0.000000</td>\n",
       "      <td>7036.000000</td>\n",
       "      <td>12.000000</td>\n",
       "      <td>4268.000000</td>\n",
       "      <td>0.000000</td>\n",
       "      <td>5113.000000</td>\n",
       "      <td>3249.000000</td>\n",
       "      <td>983.000000</td>\n",
       "      <td>0.000000</td>\n",
       "      <td>...</td>\n",
       "      <td>0.000000</td>\n",
       "      <td>0.000000</td>\n",
       "      <td>0.000000</td>\n",
       "      <td>0.000000</td>\n",
       "      <td>0.000000</td>\n",
       "      <td>0.000000</td>\n",
       "      <td>0.000000e+00</td>\n",
       "      <td>0.00000</td>\n",
       "      <td>0.000000e+00</td>\n",
       "      <td>0.000000</td>\n",
       "    </tr>\n",
       "    <tr>\n",
       "      <th>25%</th>\n",
       "      <td>45996.000000</td>\n",
       "      <td>3952.000000</td>\n",
       "      <td>10544.000000</td>\n",
       "      <td>31876.000000</td>\n",
       "      <td>76444.000000</td>\n",
       "      <td>5008.000000</td>\n",
       "      <td>13240.000000</td>\n",
       "      <td>10349.750000</td>\n",
       "      <td>2976.000000</td>\n",
       "      <td>9.000000</td>\n",
       "      <td>...</td>\n",
       "      <td>0.000000</td>\n",
       "      <td>0.000000</td>\n",
       "      <td>0.000000</td>\n",
       "      <td>0.000000</td>\n",
       "      <td>0.000000</td>\n",
       "      <td>0.000000</td>\n",
       "      <td>0.000000e+00</td>\n",
       "      <td>0.00000</td>\n",
       "      <td>0.000000e+00</td>\n",
       "      <td>0.000000</td>\n",
       "    </tr>\n",
       "    <tr>\n",
       "      <th>50%</th>\n",
       "      <td>60454.500000</td>\n",
       "      <td>6264.000000</td>\n",
       "      <td>10728.000000</td>\n",
       "      <td>41064.000000</td>\n",
       "      <td>89640.000000</td>\n",
       "      <td>8152.000000</td>\n",
       "      <td>20066.000000</td>\n",
       "      <td>16360.500000</td>\n",
       "      <td>4008.000000</td>\n",
       "      <td>34.000000</td>\n",
       "      <td>...</td>\n",
       "      <td>0.000000</td>\n",
       "      <td>0.000000</td>\n",
       "      <td>0.000000</td>\n",
       "      <td>0.000000</td>\n",
       "      <td>0.000000</td>\n",
       "      <td>2.000000</td>\n",
       "      <td>1.236000e+03</td>\n",
       "      <td>10.00000</td>\n",
       "      <td>3.544500e+03</td>\n",
       "      <td>20.000000</td>\n",
       "    </tr>\n",
       "    <tr>\n",
       "      <th>75%</th>\n",
       "      <td>91019.750000</td>\n",
       "      <td>19909.000000</td>\n",
       "      <td>11132.000000</td>\n",
       "      <td>54669.000000</td>\n",
       "      <td>99180.000000</td>\n",
       "      <td>21541.000000</td>\n",
       "      <td>27820.000000</td>\n",
       "      <td>22274.250000</td>\n",
       "      <td>5730.000000</td>\n",
       "      <td>112.000000</td>\n",
       "      <td>...</td>\n",
       "      <td>0.000000</td>\n",
       "      <td>0.000000</td>\n",
       "      <td>0.000000</td>\n",
       "      <td>0.000000</td>\n",
       "      <td>0.000000</td>\n",
       "      <td>20.000000</td>\n",
       "      <td>1.110225e+04</td>\n",
       "      <td>68.00000</td>\n",
       "      <td>1.626325e+04</td>\n",
       "      <td>120.000000</td>\n",
       "    </tr>\n",
       "    <tr>\n",
       "      <th>max</th>\n",
       "      <td>829169.000000</td>\n",
       "      <td>106360.000000</td>\n",
       "      <td>446548.000000</td>\n",
       "      <td>826672.000000</td>\n",
       "      <td>183600.000000</td>\n",
       "      <td>110336.000000</td>\n",
       "      <td>310155.000000</td>\n",
       "      <td>253856.000000</td>\n",
       "      <td>88630.000000</td>\n",
       "      <td>11164.000000</td>\n",
       "      <td>...</td>\n",
       "      <td>62.000000</td>\n",
       "      <td>26729.000000</td>\n",
       "      <td>9296.000000</td>\n",
       "      <td>15.000000</td>\n",
       "      <td>306.000000</td>\n",
       "      <td>1302.000000</td>\n",
       "      <td>2.320056e+08</td>\n",
       "      <td>166574.00000</td>\n",
       "      <td>5.826047e+06</td>\n",
       "      <td>85873.000000</td>\n",
       "    </tr>\n",
       "  </tbody>\n",
       "</table>\n",
       "<p>8 rows × 45 columns</p>\n",
       "</div>"
      ],
      "text/plain": [
       "       Memory_PssTotal  Memory_PssClean  Memory_SharedDirty  \\\n",
       "count     47032.000000     47032.000000        47032.000000   \n",
       "mean      70066.030277     12696.908573        10858.466661   \n",
       "std       35067.733913     12923.587798         2244.178601   \n",
       "min        4506.000000         0.000000         7036.000000   \n",
       "25%       45996.000000      3952.000000        10544.000000   \n",
       "50%       60454.500000      6264.000000        10728.000000   \n",
       "75%       91019.750000     19909.000000        11132.000000   \n",
       "max      829169.000000    106360.000000       446548.000000   \n",
       "\n",
       "       Memory_PrivateDirty  Memory_SharedClean  Memory_PrivateClean  \\\n",
       "count         47032.000000        47032.000000         47032.000000   \n",
       "mean          46776.315275        87947.190764         14305.071015   \n",
       "std           28335.704319        15994.720499         13488.810568   \n",
       "min              12.000000         4268.000000             0.000000   \n",
       "25%           31876.000000        76444.000000          5008.000000   \n",
       "50%           41064.000000        89640.000000          8152.000000   \n",
       "75%           54669.000000        99180.000000         21541.000000   \n",
       "max          826672.000000       183600.000000        110336.000000   \n",
       "\n",
       "       Memory_HeapSize  Memory_HeapAlloc  Memory_HeapFree  Memory_Views  ...  \\\n",
       "count     47032.000000      47032.000000     47032.000000  47032.000000  ...   \n",
       "mean      21836.077458      17179.782935      4655.302220     83.215704  ...   \n",
       "std       12251.405628      10234.316094      2878.223628    163.565694  ...   \n",
       "min        5113.000000       3249.000000       983.000000      0.000000  ...   \n",
       "25%       13240.000000      10349.750000      2976.000000      9.000000  ...   \n",
       "50%       20066.000000      16360.500000      4008.000000     34.000000  ...   \n",
       "75%       27820.000000      22274.250000      5730.000000    112.000000  ...   \n",
       "max      310155.000000     253856.000000     88630.000000  11164.000000  ...   \n",
       "\n",
       "       API_DexClassLoader_dalvik.system.DexFile_loadDex  \\\n",
       "count                                      47032.000000   \n",
       "mean                                           0.121407   \n",
       "std                                            1.781443   \n",
       "min                                            0.000000   \n",
       "25%                                            0.000000   \n",
       "50%                                            0.000000   \n",
       "75%                                            0.000000   \n",
       "max                                           62.000000   \n",
       "\n",
       "       API_Base64_android.util.Base64_decode  \\\n",
       "count                           47032.000000   \n",
       "mean                              226.005060   \n",
       "std                               858.208668   \n",
       "min                                 0.000000   \n",
       "25%                                 0.000000   \n",
       "50%                                 0.000000   \n",
       "75%                                 0.000000   \n",
       "max                             26729.000000   \n",
       "\n",
       "       API_SystemManager_android.app.ApplicationPackageManager_setComponentEnabledSetting  \\\n",
       "count                                       47032.000000                                    \n",
       "mean                                            3.985818                                    \n",
       "std                                            91.191986                                    \n",
       "min                                             0.000000                                    \n",
       "25%                                             0.000000                                    \n",
       "50%                                             0.000000                                    \n",
       "75%                                             0.000000                                    \n",
       "max                                          9296.000000                                    \n",
       "\n",
       "       API_SystemManager_android.content.BroadcastReceiver_abortBroadcast  \\\n",
       "count                                       47032.000000                    \n",
       "mean                                            0.028810                    \n",
       "std                                             0.236024                    \n",
       "min                                             0.000000                    \n",
       "25%                                             0.000000                    \n",
       "50%                                             0.000000                    \n",
       "75%                                             0.000000                    \n",
       "max                                            15.000000                    \n",
       "\n",
       "       API_SMS_android.telephony.SmsManager_sendTextMessage  \\\n",
       "count                                       47032.000000      \n",
       "mean                                            0.172670      \n",
       "std                                             2.806416      \n",
       "min                                             0.000000      \n",
       "25%                                             0.000000      \n",
       "50%                                             0.000000      \n",
       "75%                                             0.000000      \n",
       "max                                           306.000000      \n",
       "\n",
       "       API_DeviceData_android.content.ContentResolver_registerContentObserver  \\\n",
       "count                                       47032.000000                        \n",
       "mean                                           27.414654                        \n",
       "std                                            58.934643                        \n",
       "min                                             0.000000                        \n",
       "25%                                             0.000000                        \n",
       "50%                                             2.000000                        \n",
       "75%                                            20.000000                        \n",
       "max                                          1302.000000                        \n",
       "\n",
       "       Network_TotalReceivedBytes  Network_TotalReceivedPackets  \\\n",
       "count                4.703200e+04                   47032.00000   \n",
       "mean                 1.083389e+06                     830.12921   \n",
       "std                  1.114890e+07                    7881.72742   \n",
       "min                  0.000000e+00                       0.00000   \n",
       "25%                  0.000000e+00                       0.00000   \n",
       "50%                  1.236000e+03                      10.00000   \n",
       "75%                  1.110225e+04                      68.00000   \n",
       "max                  2.320056e+08                  166574.00000   \n",
       "\n",
       "       Network_TotalTransmittedBytes  Network_TotalTransmittedPackets  \n",
       "count                   4.703200e+04                     47032.000000  \n",
       "mean                    3.160736e+04                       478.422457  \n",
       "std                     1.686664e+05                      3801.344833  \n",
       "min                     0.000000e+00                         0.000000  \n",
       "25%                     0.000000e+00                         0.000000  \n",
       "50%                     3.544500e+03                        20.000000  \n",
       "75%                     1.626325e+04                       120.000000  \n",
       "max                     5.826047e+06                     85873.000000  \n",
       "\n",
       "[8 rows x 45 columns]"
      ]
     },
     "execution_count": 17,
     "metadata": {},
     "output_type": "execute_result"
    }
   ],
   "source": [
    "df_2.describe()"
   ]
  },
  {
   "cell_type": "code",
   "execution_count": 18,
   "id": "5e93682d",
   "metadata": {
    "execution": {
     "iopub.execute_input": "2023-03-25T06:20:59.126047Z",
     "iopub.status.busy": "2023-03-25T06:20:59.124777Z",
     "iopub.status.idle": "2023-03-25T06:20:59.133614Z",
     "shell.execute_reply": "2023-03-25T06:20:59.132253Z"
    },
    "papermill": {
     "duration": 0.025475,
     "end_time": "2023-03-25T06:20:59.136335",
     "exception": false,
     "start_time": "2023-03-25T06:20:59.110860",
     "status": "completed"
    },
    "tags": []
   },
   "outputs": [
    {
     "data": {
      "text/plain": [
       "Index(['Memory_PssTotal', 'Memory_PssClean', 'Memory_SharedDirty',\n",
       "       'Memory_PrivateDirty', 'Memory_SharedClean', 'Memory_PrivateClean',\n",
       "       'Memory_HeapSize', 'Memory_HeapAlloc', 'Memory_HeapFree',\n",
       "       'Memory_Views', 'Memory_ViewRootImpl', 'Memory_AppContexts',\n",
       "       'Memory_Activities', 'Memory_Assets', 'Memory_AssetManagers',\n",
       "       'Memory_LocalBinders', 'Memory_ProxyBinders', 'Memory_ParcelMemory',\n",
       "       'Memory_ParcelCount', 'API_Command_java.lang.Runtime_exec',\n",
       "       'API_Command_java.lang.ProcessBuilder_start',\n",
       "       'API_WebView_android.webkit.WebView_loadUrl',\n",
       "       'API_FileIO_android.content.ContextWrapper_deleteFile',\n",
       "       'API_Database_android.database.sqlite.SQLiteDatabase_update',\n",
       "       'API_IPC_android.content.ContextWrapper_stopService',\n",
       "       'API_Binder_android.app.ContextImpl_registerReceiver',\n",
       "       'API_Crypto_javax.crypto.spec.SecretKeySpec_$init',\n",
       "       'API_Crypto-Hash_java.security.MessageDigest_digest',\n",
       "       'API_Crypto-Hash_java.security.MessageDigest_update',\n",
       "       'API_DeviceInfo_android.telephony.TelephonyManager_getDeviceId',\n",
       "       'API_DeviceInfo_android.telephony.TelephonyManager_getSubscriberId',\n",
       "       'API_DeviceInfo_android.telephony.TelephonyManager_getSimOperatorName',\n",
       "       'API_Network_java.net.URL_openConnection',\n",
       "       'API_Network_com.android.okhttp.internal.huc.HttpURLConnectionImpl_getInputStream',\n",
       "       'API_DexClassLoader_dalvik.system.BaseDexClassLoader_findResource',\n",
       "       'API_DexClassLoader_dalvik.system.DexFile_loadDex',\n",
       "       'API_Base64_android.util.Base64_decode',\n",
       "       'API_SystemManager_android.app.ApplicationPackageManager_setComponentEnabledSetting',\n",
       "       'API_SystemManager_android.content.BroadcastReceiver_abortBroadcast',\n",
       "       'API_SMS_android.telephony.SmsManager_sendTextMessage',\n",
       "       'API_DeviceData_android.content.ContentResolver_registerContentObserver',\n",
       "       'Network_TotalReceivedBytes', 'Network_TotalReceivedPackets',\n",
       "       'Network_TotalTransmittedBytes', 'Network_TotalTransmittedPackets',\n",
       "       'Category'],\n",
       "      dtype='object')"
      ]
     },
     "execution_count": 18,
     "metadata": {},
     "output_type": "execute_result"
    }
   ],
   "source": [
    "df_2.columns"
   ]
  },
  {
   "cell_type": "markdown",
   "id": "d3a728cb",
   "metadata": {
    "papermill": {
     "duration": 0.012438,
     "end_time": "2023-03-25T06:20:59.161440",
     "exception": false,
     "start_time": "2023-03-25T06:20:59.149002",
     "status": "completed"
    },
    "tags": []
   },
   "source": [
    "**3. Explore your dataset and check if there is any column with missing values.**"
   ]
  },
  {
   "cell_type": "code",
   "execution_count": 19,
   "id": "348e7bf2",
   "metadata": {
    "execution": {
     "iopub.execute_input": "2023-03-25T06:20:59.189196Z",
     "iopub.status.busy": "2023-03-25T06:20:59.188386Z",
     "iopub.status.idle": "2023-03-25T06:20:59.204043Z",
     "shell.execute_reply": "2023-03-25T06:20:59.202842Z"
    },
    "papermill": {
     "duration": 0.032356,
     "end_time": "2023-03-25T06:20:59.206513",
     "exception": false,
     "start_time": "2023-03-25T06:20:59.174157",
     "status": "completed"
    },
    "tags": []
   },
   "outputs": [
    {
     "data": {
      "text/plain": [
       "Memory_PssTotal                                                                       0\n",
       "Memory_PssClean                                                                       0\n",
       "Memory_SharedDirty                                                                    0\n",
       "Memory_PrivateDirty                                                                   0\n",
       "Memory_SharedClean                                                                    0\n",
       "Memory_PrivateClean                                                                   0\n",
       "Memory_HeapSize                                                                       0\n",
       "Memory_HeapAlloc                                                                      0\n",
       "Memory_HeapFree                                                                       0\n",
       "Memory_Views                                                                          0\n",
       "Memory_ViewRootImpl                                                                   0\n",
       "Memory_AppContexts                                                                    0\n",
       "Memory_Activities                                                                     0\n",
       "Memory_Assets                                                                         0\n",
       "Memory_AssetManagers                                                                  0\n",
       "Memory_LocalBinders                                                                   0\n",
       "Memory_ProxyBinders                                                                   0\n",
       "Memory_ParcelMemory                                                                   0\n",
       "Memory_ParcelCount                                                                    0\n",
       "API_Command_java.lang.Runtime_exec                                                    0\n",
       "API_Command_java.lang.ProcessBuilder_start                                            0\n",
       "API_WebView_android.webkit.WebView_loadUrl                                            0\n",
       "API_FileIO_android.content.ContextWrapper_deleteFile                                  0\n",
       "API_Database_android.database.sqlite.SQLiteDatabase_update                            0\n",
       "API_IPC_android.content.ContextWrapper_stopService                                    0\n",
       "API_Binder_android.app.ContextImpl_registerReceiver                                   0\n",
       "API_Crypto_javax.crypto.spec.SecretKeySpec_$init                                      0\n",
       "API_Crypto-Hash_java.security.MessageDigest_digest                                    0\n",
       "API_Crypto-Hash_java.security.MessageDigest_update                                    0\n",
       "API_DeviceInfo_android.telephony.TelephonyManager_getDeviceId                         0\n",
       "API_DeviceInfo_android.telephony.TelephonyManager_getSubscriberId                     0\n",
       "API_DeviceInfo_android.telephony.TelephonyManager_getSimOperatorName                  0\n",
       "API_Network_java.net.URL_openConnection                                               0\n",
       "API_Network_com.android.okhttp.internal.huc.HttpURLConnectionImpl_getInputStream      0\n",
       "API_DexClassLoader_dalvik.system.BaseDexClassLoader_findResource                      0\n",
       "API_DexClassLoader_dalvik.system.DexFile_loadDex                                      0\n",
       "API_Base64_android.util.Base64_decode                                                 0\n",
       "API_SystemManager_android.app.ApplicationPackageManager_setComponentEnabledSetting    0\n",
       "API_SystemManager_android.content.BroadcastReceiver_abortBroadcast                    0\n",
       "API_SMS_android.telephony.SmsManager_sendTextMessage                                  0\n",
       "API_DeviceData_android.content.ContentResolver_registerContentObserver                0\n",
       "Network_TotalReceivedBytes                                                            0\n",
       "Network_TotalReceivedPackets                                                          0\n",
       "Network_TotalTransmittedBytes                                                         0\n",
       "Network_TotalTransmittedPackets                                                       0\n",
       "Category                                                                              0\n",
       "dtype: int64"
      ]
     },
     "execution_count": 19,
     "metadata": {},
     "output_type": "execute_result"
    }
   ],
   "source": [
    "df_2.isnull().sum()"
   ]
  },
  {
   "cell_type": "markdown",
   "id": "f100c7ce",
   "metadata": {
    "papermill": {
     "duration": 0.01326,
     "end_time": "2023-03-25T06:20:59.233293",
     "exception": false,
     "start_time": "2023-03-25T06:20:59.220033",
     "status": "completed"
    },
    "tags": []
   },
   "source": [
    "**4. Select your input variables and ourput variable (hint: output colum is the one you want to predict. In this case it is the last column which shows the type of network attack).**"
   ]
  },
  {
   "cell_type": "code",
   "execution_count": 20,
   "id": "ae584720",
   "metadata": {
    "execution": {
     "iopub.execute_input": "2023-03-25T06:20:59.261990Z",
     "iopub.status.busy": "2023-03-25T06:20:59.261309Z",
     "iopub.status.idle": "2023-03-25T06:20:59.266603Z",
     "shell.execute_reply": "2023-03-25T06:20:59.265645Z"
    },
    "papermill": {
     "duration": 0.022822,
     "end_time": "2023-03-25T06:20:59.269033",
     "exception": false,
     "start_time": "2023-03-25T06:20:59.246211",
     "status": "completed"
    },
    "tags": []
   },
   "outputs": [],
   "source": [
    "from sklearn.preprocessing import LabelEncoder\n",
    "le = LabelEncoder()"
   ]
  },
  {
   "cell_type": "code",
   "execution_count": 21,
   "id": "3dab40a4",
   "metadata": {
    "execution": {
     "iopub.execute_input": "2023-03-25T06:20:59.297326Z",
     "iopub.status.busy": "2023-03-25T06:20:59.296660Z",
     "iopub.status.idle": "2023-03-25T06:20:59.313903Z",
     "shell.execute_reply": "2023-03-25T06:20:59.312639Z"
    },
    "papermill": {
     "duration": 0.034096,
     "end_time": "2023-03-25T06:20:59.316269",
     "exception": false,
     "start_time": "2023-03-25T06:20:59.282173",
     "status": "completed"
    },
    "tags": []
   },
   "outputs": [
    {
     "data": {
      "text/html": [
       "<div>\n",
       "<style scoped>\n",
       "    .dataframe tbody tr th:only-of-type {\n",
       "        vertical-align: middle;\n",
       "    }\n",
       "\n",
       "    .dataframe tbody tr th {\n",
       "        vertical-align: top;\n",
       "    }\n",
       "\n",
       "    .dataframe thead th {\n",
       "        text-align: right;\n",
       "    }\n",
       "</style>\n",
       "<table border=\"1\" class=\"dataframe\">\n",
       "  <thead>\n",
       "    <tr style=\"text-align: right;\">\n",
       "      <th></th>\n",
       "      <th>Memory_PssTotal</th>\n",
       "      <th>Memory_PssClean</th>\n",
       "      <th>Memory_SharedDirty</th>\n",
       "      <th>Memory_PrivateDirty</th>\n",
       "      <th>Memory_SharedClean</th>\n",
       "      <th>Memory_PrivateClean</th>\n",
       "      <th>Memory_HeapSize</th>\n",
       "      <th>Memory_HeapAlloc</th>\n",
       "      <th>Memory_HeapFree</th>\n",
       "      <th>Memory_Views</th>\n",
       "      <th>...</th>\n",
       "      <th>API_Base64_android.util.Base64_decode</th>\n",
       "      <th>API_SystemManager_android.app.ApplicationPackageManager_setComponentEnabledSetting</th>\n",
       "      <th>API_SystemManager_android.content.BroadcastReceiver_abortBroadcast</th>\n",
       "      <th>API_SMS_android.telephony.SmsManager_sendTextMessage</th>\n",
       "      <th>API_DeviceData_android.content.ContentResolver_registerContentObserver</th>\n",
       "      <th>Network_TotalReceivedBytes</th>\n",
       "      <th>Network_TotalReceivedPackets</th>\n",
       "      <th>Network_TotalTransmittedBytes</th>\n",
       "      <th>Network_TotalTransmittedPackets</th>\n",
       "      <th>Category</th>\n",
       "    </tr>\n",
       "  </thead>\n",
       "  <tbody>\n",
       "    <tr>\n",
       "      <th>0</th>\n",
       "      <td>46430</td>\n",
       "      <td>5156</td>\n",
       "      <td>11304</td>\n",
       "      <td>34336</td>\n",
       "      <td>86444</td>\n",
       "      <td>5176</td>\n",
       "      <td>15429</td>\n",
       "      <td>11470</td>\n",
       "      <td>3958</td>\n",
       "      <td>61</td>\n",
       "      <td>...</td>\n",
       "      <td>0</td>\n",
       "      <td>0</td>\n",
       "      <td>0</td>\n",
       "      <td>0</td>\n",
       "      <td>0</td>\n",
       "      <td>12519646</td>\n",
       "      <td>9033</td>\n",
       "      <td>142613</td>\n",
       "      <td>3551</td>\n",
       "      <td>Adware</td>\n",
       "    </tr>\n",
       "  </tbody>\n",
       "</table>\n",
       "<p>1 rows × 46 columns</p>\n",
       "</div>"
      ],
      "text/plain": [
       "   Memory_PssTotal  Memory_PssClean  Memory_SharedDirty  Memory_PrivateDirty  \\\n",
       "0            46430             5156               11304                34336   \n",
       "\n",
       "   Memory_SharedClean  Memory_PrivateClean  Memory_HeapSize  Memory_HeapAlloc  \\\n",
       "0               86444                 5176            15429             11470   \n",
       "\n",
       "   Memory_HeapFree  Memory_Views  ...  API_Base64_android.util.Base64_decode  \\\n",
       "0             3958            61  ...                                      0   \n",
       "\n",
       "   API_SystemManager_android.app.ApplicationPackageManager_setComponentEnabledSetting  \\\n",
       "0                                                  0                                    \n",
       "\n",
       "   API_SystemManager_android.content.BroadcastReceiver_abortBroadcast  \\\n",
       "0                                                  0                    \n",
       "\n",
       "   API_SMS_android.telephony.SmsManager_sendTextMessage  \\\n",
       "0                                                  0      \n",
       "\n",
       "   API_DeviceData_android.content.ContentResolver_registerContentObserver  \\\n",
       "0                                                  0                        \n",
       "\n",
       "   Network_TotalReceivedBytes  Network_TotalReceivedPackets  \\\n",
       "0                    12519646                          9033   \n",
       "\n",
       "   Network_TotalTransmittedBytes  Network_TotalTransmittedPackets  Category  \n",
       "0                         142613                             3551    Adware  \n",
       "\n",
       "[1 rows x 46 columns]"
      ]
     },
     "execution_count": 21,
     "metadata": {},
     "output_type": "execute_result"
    }
   ],
   "source": [
    "df_2.head(1)"
   ]
  },
  {
   "cell_type": "code",
   "execution_count": 22,
   "id": "f61136e8",
   "metadata": {
    "execution": {
     "iopub.execute_input": "2023-03-25T06:20:59.344812Z",
     "iopub.status.busy": "2023-03-25T06:20:59.344152Z",
     "iopub.status.idle": "2023-03-25T06:20:59.370371Z",
     "shell.execute_reply": "2023-03-25T06:20:59.369039Z"
    },
    "papermill": {
     "duration": 0.043859,
     "end_time": "2023-03-25T06:20:59.373305",
     "exception": false,
     "start_time": "2023-03-25T06:20:59.329446",
     "status": "completed"
    },
    "tags": []
   },
   "outputs": [],
   "source": [
    "X_2 = df_2.drop('Category', axis=1)\n",
    "y_2 = le.fit_transform(df_2['Category'])"
   ]
  },
  {
   "cell_type": "markdown",
   "id": "58357f42",
   "metadata": {
    "papermill": {
     "duration": 0.012845,
     "end_time": "2023-03-25T06:20:59.399696",
     "exception": false,
     "start_time": "2023-03-25T06:20:59.386851",
     "status": "completed"
    },
    "tags": []
   },
   "source": [
    "**5. Split your dataset as %80 training and %20 testing.**"
   ]
  },
  {
   "cell_type": "code",
   "execution_count": 23,
   "id": "d1d160ad",
   "metadata": {
    "execution": {
     "iopub.execute_input": "2023-03-25T06:20:59.428280Z",
     "iopub.status.busy": "2023-03-25T06:20:59.427846Z",
     "iopub.status.idle": "2023-03-25T06:20:59.449969Z",
     "shell.execute_reply": "2023-03-25T06:20:59.449080Z"
    },
    "papermill": {
     "duration": 0.039592,
     "end_time": "2023-03-25T06:20:59.452672",
     "exception": false,
     "start_time": "2023-03-25T06:20:59.413080",
     "status": "completed"
    },
    "tags": []
   },
   "outputs": [],
   "source": [
    "from sklearn.model_selection import train_test_split\n",
    "X_train_2, X_test_2, y_train_2, y_test_2 = train_test_split(X_2, y_2, test_size=0.2)"
   ]
  },
  {
   "cell_type": "markdown",
   "id": "7cba815c",
   "metadata": {
    "papermill": {
     "duration": 0.013332,
     "end_time": "2023-03-25T06:20:59.479872",
     "exception": false,
     "start_time": "2023-03-25T06:20:59.466540",
     "status": "completed"
    },
    "tags": []
   },
   "source": [
    "**6. Scale your training data and testing data inputs.**"
   ]
  },
  {
   "cell_type": "code",
   "execution_count": 24,
   "id": "c79843a8",
   "metadata": {
    "execution": {
     "iopub.execute_input": "2023-03-25T06:20:59.508910Z",
     "iopub.status.busy": "2023-03-25T06:20:59.508462Z",
     "iopub.status.idle": "2023-03-25T06:20:59.554531Z",
     "shell.execute_reply": "2023-03-25T06:20:59.553268Z"
    },
    "papermill": {
     "duration": 0.064322,
     "end_time": "2023-03-25T06:20:59.557500",
     "exception": false,
     "start_time": "2023-03-25T06:20:59.493178",
     "status": "completed"
    },
    "tags": []
   },
   "outputs": [],
   "source": [
    "from sklearn.preprocessing import StandardScaler\n",
    "scaler = StandardScaler()\n",
    "X_train_scaled_2 = scaler.fit_transform(X_train_2)\n",
    "X_test_scaled_2 = scaler.transform(X_test_2)"
   ]
  },
  {
   "cell_type": "markdown",
   "id": "7c7056e7",
   "metadata": {
    "papermill": {
     "duration": 0.013029,
     "end_time": "2023-03-25T06:20:59.584012",
     "exception": false,
     "start_time": "2023-03-25T06:20:59.570983",
     "status": "completed"
    },
    "tags": []
   },
   "source": [
    "**7. Implement three different neural networks one with 1 layer, one with 2 layers and one with 3 layers using either the ski-learn or Keras python libraries and train them using the training dataset.**"
   ]
  },
  {
   "cell_type": "code",
   "execution_count": 25,
   "id": "395b5e3d",
   "metadata": {
    "execution": {
     "iopub.execute_input": "2023-03-25T06:20:59.612643Z",
     "iopub.status.busy": "2023-03-25T06:20:59.612219Z",
     "iopub.status.idle": "2023-03-25T06:27:44.288049Z",
     "shell.execute_reply": "2023-03-25T06:27:44.286337Z"
    },
    "papermill": {
     "duration": 404.728573,
     "end_time": "2023-03-25T06:27:44.325973",
     "exception": false,
     "start_time": "2023-03-25T06:20:59.597400",
     "status": "completed"
    },
    "tags": []
   },
   "outputs": [
    {
     "data": {
      "text/plain": [
       "MLPClassifier(hidden_layer_sizes=(100, 50, 25), random_state=42)"
      ]
     },
     "execution_count": 25,
     "metadata": {},
     "output_type": "execute_result"
    }
   ],
   "source": [
    "from sklearn.neural_network import MLPClassifier\n",
    "\n",
    "# 1-layer neural network\n",
    "nn1_2 = MLPClassifier(hidden_layer_sizes=(100,), activation='relu', solver='adam', random_state=42)\n",
    "nn1_2.fit(X_train_scaled_2, y_train_2)\n",
    "\n",
    "# 2-layer neural network\n",
    "nn2_2 = MLPClassifier(hidden_layer_sizes=(100, 50), activation='relu', solver='adam', random_state=42)\n",
    "nn2_2.fit(X_train_scaled_2, y_train_2)\n",
    "\n",
    "# 3-layer neural network\n",
    "nn3_2 = MLPClassifier(hidden_layer_sizes=(100, 50, 25), activation='relu', solver='adam', random_state=42)\n",
    "nn3_2.fit(X_train_scaled_2, y_train_2)"
   ]
  },
  {
   "cell_type": "markdown",
   "id": "6d0baf99",
   "metadata": {
    "papermill": {
     "duration": 0.023489,
     "end_time": "2023-03-25T06:27:44.407851",
     "exception": false,
     "start_time": "2023-03-25T06:27:44.384362",
     "status": "completed"
    },
    "tags": []
   },
   "source": [
    "**8. Compare their accuracies by means of the test data set using accuracy, precision, recall and F1-score metrics. Which neural network is better than the others.**"
   ]
  },
  {
   "cell_type": "code",
   "execution_count": 26,
   "id": "b7f73c22",
   "metadata": {
    "execution": {
     "iopub.execute_input": "2023-03-25T06:27:44.436875Z",
     "iopub.status.busy": "2023-03-25T06:27:44.436489Z",
     "iopub.status.idle": "2023-03-25T06:27:44.631402Z",
     "shell.execute_reply": "2023-03-25T06:27:44.629636Z"
    },
    "papermill": {
     "duration": 0.21503,
     "end_time": "2023-03-25T06:27:44.636538",
     "exception": false,
     "start_time": "2023-03-25T06:27:44.421508",
     "status": "completed"
    },
    "tags": []
   },
   "outputs": [
    {
     "name": "stdout",
     "output_type": "stream",
     "text": [
      "1-layer NN accuracy: (0.23439991495694695, 0.12747532172672527, 0.23439991495694695, 0.1498109182887423)\n",
      "2-layer NN accuracy: (0.17540129690655895, 0.3885374846782689, 0.17540129690655895, 0.06814471983803182)\n",
      "3-layer NN accuracy: (0.24194748591474433, 0.14928868706678877, 0.24194748591474433, 0.17625887916571117)\n"
     ]
    }
   ],
   "source": [
    "from sklearn.metrics import accuracy_score, precision_score, recall_score, f1_score\n",
    "\n",
    "def evaluate1(model):\n",
    "    y_pred_2 = model.predict(X_test_2)\n",
    "    accuracy = accuracy_score(y_test_2, y_pred_2)\n",
    "    precision = precision_score(y_test_2, y_pred_2, average='weighted')\n",
    "    recall = recall_score(y_test_2, y_pred_2, average='weighted')\n",
    "    f1 = f1_score(y_test_2, y_pred_2, average='weighted')\n",
    "    return (accuracy, precision, recall, f1)\n",
    "\n",
    "print(\"1-layer NN accuracy:\", evaluate1(nn1_2))\n",
    "print(\"2-layer NN accuracy:\", evaluate1(nn2_2))\n",
    "print(\"3-layer NN accuracy:\", evaluate1(nn3_2))"
   ]
  },
  {
   "cell_type": "markdown",
   "id": "2d3d8a54",
   "metadata": {
    "papermill": {
     "duration": 0.033967,
     "end_time": "2023-03-25T06:27:44.705624",
     "exception": false,
     "start_time": "2023-03-25T06:27:44.671657",
     "status": "completed"
    },
    "tags": []
   },
   "source": [
    "**9. Plot the confussion matrix of the best model.**"
   ]
  },
  {
   "cell_type": "code",
   "execution_count": 27,
   "id": "a68736cf",
   "metadata": {
    "execution": {
     "iopub.execute_input": "2023-03-25T06:27:44.736435Z",
     "iopub.status.busy": "2023-03-25T06:27:44.736053Z",
     "iopub.status.idle": "2023-03-25T06:27:45.711779Z",
     "shell.execute_reply": "2023-03-25T06:27:45.710845Z"
    },
    "papermill": {
     "duration": 0.992713,
     "end_time": "2023-03-25T06:27:45.714082",
     "exception": false,
     "start_time": "2023-03-25T06:27:44.721369",
     "status": "completed"
    },
    "tags": []
   },
   "outputs": [
    {
     "data": {
      "text/plain": [
       "<sklearn.metrics._plot.confusion_matrix.ConfusionMatrixDisplay at 0x7f19ed973c90>"
      ]
     },
     "execution_count": 27,
     "metadata": {},
     "output_type": "execute_result"
    },
    {
     "data": {
      "image/png": "[encoded data removed]",
      "text/plain": [
       "<Figure size 640x480 with 2 Axes>"
      ]
     },
     "metadata": {},
     "output_type": "display_data"
    }
   ],
   "source": [
    "from sklearn.metrics import plot_confusion_matrix\n",
    "\n",
    "best_model = nn2_2 # Assuming that 2-layer NN is the best model\n",
    "plot_confusion_matrix(best_model, X_test_scaled_2, y_test_2, cmap='Blues')"
   ]
  }
 ],
 "metadata": {
  "kernelspec": {
   "display_name": "Python 3",
   "language": "python",
   "name": "python3"
  },
  "language_info": {
   "codemirror_mode": {
    "name": "ipython",
    "version": 3
   },
   "file_extension": ".py",
   "mimetype": "text/x-python",
   "name": "python",
   "nbconvert_exporter": "python",
   "pygments_lexer": "ipython3",
   "version": "3.7.12"
  },
  "papermill": {
   "default_parameters": {},
   "duration": 460.22275,
   "end_time": "2023-03-25T06:27:46.556365",
   "environment_variables": {},
   "exception": null,
   "input_path": "__notebook__.ipynb",
   "output_path": "__notebook__.ipynb",
   "parameters": {},
   "start_time": "2023-03-25T06:20:06.333615",
   "version": "2.4.0"
  }
 },
 "nbformat": 4,
 "nbformat_minor": 5
}
